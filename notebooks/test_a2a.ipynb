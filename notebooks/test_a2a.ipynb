{
 "cells": [
  {
   "cell_type": "code",
   "execution_count": 1,
   "id": "6698b266",
   "metadata": {},
   "outputs": [],
   "source": [
    "%load_ext autoreload\n",
    "%autoreload 2"
   ]
  },
  {
   "cell_type": "code",
   "execution_count": 2,
   "id": "7c7af724",
   "metadata": {},
   "outputs": [],
   "source": [
    "import sys\n",
    "\n",
    "for directory in [\"agent_clients\", \"src\", \"utils\"]:\n",
    "    sys.path.append(f\"../{directory}\")\n",
    "\n",
    "from currency_exchange_client import create_client\n",
    "from ping_client import ping_client_service\n",
    "from setup import setup_paths\n",
    "setup_paths()"
   ]
  },
  {
   "cell_type": "code",
   "execution_count": 3,
   "id": "6f44a7f0",
   "metadata": {},
   "outputs": [],
   "source": [
    "CURRENCY_SERVER_URL = \"http://localhost:8001/currency\""
   ]
  },
  {
   "cell_type": "markdown",
   "id": "82190c6e",
   "metadata": {},
   "source": [
    "## Test pinging the client"
   ]
  },
  {
   "cell_type": "code",
   "execution_count": 4,
   "id": "c6f985b4",
   "metadata": {},
   "outputs": [
    {
     "name": "stderr",
     "output_type": "stream",
     "text": [
      "INFO:httpx:HTTP Request: GET http://localhost:8001/currency/.well-known/agent.json \"HTTP/1.1 404 Not Found\"\n",
      "ERROR:currency_exchange_client:Failed to fetch AgentCard or initialize client: Client error '404 Not Found' for url 'http://localhost:8001/currency/.well-known/agent.json'\n",
      "For more information check: https://developer.mozilla.org/en-US/docs/Web/HTTP/Status/404\n"
     ]
    }
   ],
   "source": [
    "client = await create_client(url=CURRENCY_SERVER_URL)"
   ]
  },
  {
   "cell_type": "code",
   "execution_count": 5,
   "id": "7ee183a0",
   "metadata": {},
   "outputs": [
    {
     "data": {
      "text/plain": [
       "<common.client.client.A2AClient at 0x114aa1880>"
      ]
     },
     "execution_count": 5,
     "metadata": {},
     "output_type": "execute_result"
    }
   ],
   "source": [
    "client"
   ]
  },
  {
   "cell_type": "code",
   "execution_count": 6,
   "id": "8d848eef",
   "metadata": {},
   "outputs": [],
   "source": [
    "from uuid import uuid4\n",
    "\n",
    "task_id = f\"echo-task-{uuid4().hex}\"\n",
    "session_id = f\"session-{uuid4().hex}\""
   ]
  },
  {
   "cell_type": "code",
   "execution_count": 7,
   "id": "8a72d887",
   "metadata": {},
   "outputs": [],
   "source": [
    "question = \"What is the exchange rate from sgd to usd?\""
   ]
  },
  {
   "cell_type": "code",
   "execution_count": 8,
   "id": "d9fb49b1",
   "metadata": {},
   "outputs": [
    {
     "name": "stderr",
     "output_type": "stream",
     "text": [
      "INFO:ping_client:Sending task echo-task-0e63b4df927a4e9ab3da56ca6c378b42 to server...\n"
     ]
    },
    {
     "name": "stderr",
     "output_type": "stream",
     "text": [
      "INFO:httpx:HTTP Request: POST http://localhost:8001/currency \"HTTP/1.1 200 OK\"\n",
      "INFO:ping_client:Task echo-task-0e63b4df927a4e9ab3da56ca6c378b42 completed with state: TaskState.COMPLETED\n"
     ]
    }
   ],
   "source": [
    "response = await ping_client_service(\n",
    "    client = client,\n",
    "    task_id = task_id,\n",
    "    session_id = session_id,\n",
    "    text = question\n",
    ")"
   ]
  },
  {
   "cell_type": "code",
   "execution_count": 11,
   "id": "89c46cc5",
   "metadata": {},
   "outputs": [
    {
     "name": "stdout",
     "output_type": "stream",
     "text": [
      "id='echo-task-0e63b4df927a4e9ab3da56ca6c378b42' sessionId='session-a19d00b6c06e472ea695ef628b359747' status=TaskStatus(state=<TaskState.COMPLETED: 'completed'>, message=None, timestamp=datetime.datetime(2025, 4, 21, 16, 20, 15, 984417)) artifacts=[Artifact(name=None, description=None, parts=[TextPart(type='text', text='The exchange rate from Singapore Dollar (SGD) to US Dollar (USD) is approximately 0.76216 USD for 1 SGD.', metadata=None)], metadata=None, index=0, append=False, lastChunk=None)] history=[] metadata=None\n"
     ]
    }
   ],
   "source": [
    "print(response)"
   ]
  },
  {
   "cell_type": "code",
   "execution_count": 17,
   "id": "add1b8db",
   "metadata": {},
   "outputs": [
    {
     "data": {
      "text/markdown": [
       "The exchange rate from Singapore Dollar (SGD) to US Dollar (USD) is approximately 0.76216 USD for 1 SGD."
      ],
      "text/plain": [
       "<IPython.core.display.Markdown object>"
      ]
     },
     "metadata": {},
     "output_type": "display_data"
    }
   ],
   "source": [
    "from IPython.display import display, Markdown\n",
    "\n",
    "display(Markdown(response.artifacts[0].parts[0].text))"
   ]
  },
  {
   "cell_type": "markdown",
   "id": "be8d35e5",
   "metadata": {},
   "source": []
  }
 ],
 "metadata": {
  "kernelspec": {
   "display_name": "llamaindex",
   "language": "python",
   "name": "python3"
  },
  "language_info": {
   "codemirror_mode": {
    "name": "ipython",
    "version": 3
   },
   "file_extension": ".py",
   "mimetype": "text/x-python",
   "name": "python",
   "nbconvert_exporter": "python",
   "pygments_lexer": "ipython3",
   "version": "3.12.5"
  }
 },
 "nbformat": 4,
 "nbformat_minor": 5
}
