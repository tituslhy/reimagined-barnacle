{
 "cells": [
  {
   "cell_type": "code",
   "execution_count": 1,
   "id": "5893fba4",
   "metadata": {},
   "outputs": [],
   "source": [
    "%load_ext autoreload\n",
    "%autoreload 2"
   ]
  },
  {
   "cell_type": "code",
   "execution_count": 2,
   "id": "e2338935",
   "metadata": {},
   "outputs": [],
   "source": [
    "import nest_asyncio\n",
    "import os\n",
    "from dotenv import load_dotenv, find_dotenv\n",
    "\n",
    "_ = load_dotenv(find_dotenv())\n",
    "nest_asyncio.apply()"
   ]
  },
  {
   "cell_type": "markdown",
   "id": "8cc58c09",
   "metadata": {},
   "source": [
    "## Agent tools\n",
    "Defining a tool to get the current exchange rate\n",
    "> Source: [Google's A2A repo](https://github.com/google/A2A/blob/main/samples/python/agents/langgraph/agent.py)"
   ]
  },
  {
   "cell_type": "code",
   "execution_count": 3,
   "id": "fc102551",
   "metadata": {},
   "outputs": [],
   "source": [
    "import httpx\n",
    "\n",
    "def get_exchange_rate(\n",
    "    currency_from: str = \"USD\",\n",
    "    currency_to: str = \"EUR\",\n",
    "    currency_date: str = \"latest\",\n",
    "):\n",
    "    \"\"\"Use this to get current exchange rate.\n",
    "\n",
    "    Args:\n",
    "        currency_from: The currency to convert from (e.g., \"USD\").\n",
    "        currency_to: The currency to convert to (e.g., \"EUR\").\n",
    "        currency_date: The date for the exchange rate or \"latest\". Defaults to \"latest\".\n",
    "\n",
    "    Returns:\n",
    "        A dictionary containing the exchange rate data, or an error message if the request fails.\n",
    "    \"\"\"    \n",
    "    try:\n",
    "        response = httpx.get(\n",
    "            f\"https://api.frankfurter.app/{currency_date}\",\n",
    "            params={\"from\": currency_from, \"to\": currency_to},\n",
    "        )\n",
    "        response.raise_for_status()\n",
    "\n",
    "        data = response.json()\n",
    "        if \"rates\" not in data:\n",
    "            return {\"error\": \"Invalid API response format.\"}\n",
    "        return data\n",
    "    except httpx.HTTPError as e:\n",
    "        return {\"error\": f\"API request failed: {e}\"}\n",
    "    except ValueError:\n",
    "        return {\"error\": \"Invalid JSON response from API.\"}"
   ]
  },
  {
   "cell_type": "code",
   "execution_count": 4,
   "id": "e86b4a7a",
   "metadata": {},
   "outputs": [
    {
     "data": {
      "text/plain": [
       "{'amount': 1.0, 'base': 'SGD', 'date': '2025-04-17', 'rates': {'USD': 0.76216}}"
      ]
     },
     "execution_count": 4,
     "metadata": {},
     "output_type": "execute_result"
    }
   ],
   "source": [
    "get_exchange_rate(\n",
    "    currency_from=\"SGD\",\n",
    "    currency_to=\"USD\",\n",
    "    currency_date=\"latest\",\n",
    ")"
   ]
  },
  {
   "cell_type": "code",
   "execution_count": 5,
   "id": "09065812",
   "metadata": {},
   "outputs": [],
   "source": [
    "from llama_index.core.tools import FunctionTool\n",
    "\n",
    "tools = [\n",
    "    FunctionTool.from_defaults(get_exchange_rate)\n",
    "]"
   ]
  },
  {
   "cell_type": "markdown",
   "id": "72f26afc",
   "metadata": {},
   "source": [
    "## Building the agent"
   ]
  },
  {
   "cell_type": "code",
   "execution_count": 11,
   "id": "313a810b",
   "metadata": {},
   "outputs": [],
   "source": [
    "from llama_index.llms.openai import OpenAI\n",
    "from llama_index.core.agent.workflow import FunctionAgent, ToolCallResult, ToolCall, AgentStream\n",
    "from llama_index.core.workflow import Context\n",
    "\n",
    "agent = FunctionAgent(\n",
    "    tools = tools,\n",
    "    llm=OpenAI(model=\"gpt-4o-mini\"),\n",
    ")"
   ]
  },
  {
   "cell_type": "code",
   "execution_count": 12,
   "id": "4151915d",
   "metadata": {},
   "outputs": [
    {
     "name": "stdout",
     "output_type": "stream",
     "text": [
      "The exchange rate from Singapore Dollar (SGD) to US Dollar (USD) is approximately 0.76216 USD for 1 SGD."
     ]
    }
   ],
   "source": [
    "ctx = Context(agent)\n",
    "handler = agent.run(\"What is the exchange rate from SGD to USD?\", ctx=ctx)\n",
    "async for event in handler.stream_events():\n",
    "    if isinstance(event, AgentStream):\n",
    "        print(event.delta, end=\"\", flush=True)\n",
    "\n",
    "response = await handler"
   ]
  },
  {
   "cell_type": "code",
   "execution_count": 13,
   "id": "6a7fc824",
   "metadata": {},
   "outputs": [
    {
     "data": {
      "text/markdown": [
       "The exchange rate from Singapore Dollar (SGD) to US Dollar (USD) is approximately 0.76216 USD for 1 SGD."
      ],
      "text/plain": [
       "<IPython.core.display.Markdown object>"
      ]
     },
     "metadata": {},
     "output_type": "display_data"
    }
   ],
   "source": [
    "from IPython.display import display, Markdown\n",
    "\n",
    "display(Markdown(str(response)))"
   ]
  },
  {
   "cell_type": "markdown",
   "id": "c361c363",
   "metadata": {},
   "source": [
    "Test persistence"
   ]
  },
  {
   "cell_type": "code",
   "execution_count": 14,
   "id": "40bf5987",
   "metadata": {},
   "outputs": [
    {
     "name": "stdout",
     "output_type": "stream",
     "text": [
      "You asked about the exchange rate from Singapore Dollar (SGD) to US Dollar (USD)."
     ]
    }
   ],
   "source": [
    "handler = agent.run(\"What was the last thing I asked you?\", ctx=ctx)\n",
    "async for event in handler.stream_events():\n",
    "    if isinstance(event, AgentStream):\n",
    "        print(event.delta, end=\"\", flush=True)\n",
    "\n",
    "response = await handler"
   ]
  },
  {
   "cell_type": "code",
   "execution_count": null,
   "id": "e1b681af",
   "metadata": {},
   "outputs": [],
   "source": []
  }
 ],
 "metadata": {
  "kernelspec": {
   "display_name": "llamaindex",
   "language": "python",
   "name": "python3"
  },
  "language_info": {
   "codemirror_mode": {
    "name": "ipython",
    "version": 3
   },
   "file_extension": ".py",
   "mimetype": "text/x-python",
   "name": "python",
   "nbconvert_exporter": "python",
   "pygments_lexer": "ipython3",
   "version": "3.12.5"
  }
 },
 "nbformat": 4,
 "nbformat_minor": 5
}
