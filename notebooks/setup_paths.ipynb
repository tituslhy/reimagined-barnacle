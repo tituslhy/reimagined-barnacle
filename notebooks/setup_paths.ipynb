{
 "cells": [
  {
   "cell_type": "markdown",
   "id": "56422db1",
   "metadata": {},
   "source": [
    "This notebook just sets up pathing to ensure that the A2A abstractions are importable"
   ]
  },
  {
   "cell_type": "code",
   "execution_count": 1,
   "id": "6508129d",
   "metadata": {},
   "outputs": [],
   "source": [
    "import sys\n",
    "sys.path.insert(0, \"../utils\")\n",
    "from setup import setup_paths"
   ]
  },
  {
   "cell_type": "code",
   "execution_count": 2,
   "id": "f4f4f71e",
   "metadata": {},
   "outputs": [],
   "source": [
    "setup_paths()"
   ]
  },
  {
   "cell_type": "code",
   "execution_count": 3,
   "id": "c8f8f7c6",
   "metadata": {},
   "outputs": [],
   "source": [
    "from common.client import A2AClient"
   ]
  },
  {
   "cell_type": "code",
   "execution_count": null,
   "id": "8919724f",
   "metadata": {},
   "outputs": [],
   "source": []
  }
 ],
 "metadata": {
  "kernelspec": {
   "display_name": "llamaindex",
   "language": "python",
   "name": "python3"
  },
  "language_info": {
   "codemirror_mode": {
    "name": "ipython",
    "version": 3
   },
   "file_extension": ".py",
   "mimetype": "text/x-python",
   "name": "python",
   "nbconvert_exporter": "python",
   "pygments_lexer": "ipython3",
   "version": "3.12.5"
  }
 },
 "nbformat": 4,
 "nbformat_minor": 5
}
